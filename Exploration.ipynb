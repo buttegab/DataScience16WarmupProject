{
 "cells": [
  {
   "cell_type": "code",
   "execution_count": 37,
   "metadata": {
    "collapsed": false
   },
   "outputs": [
    {
     "name": "stdout",
     "output_type": "stream",
     "text": [
      "Male survival: 18.890814558058924%\n",
      "Female survival: 74.20382165605095%\n",
      " \n",
      "Young survival: 59.036144578313255%\n",
      "Old survival: 36.486486486486484%\n",
      " \n",
      "Old male survival: 13.461538461538462%\n",
      "Old female survival: 90.9090909090909%\n",
      "Young male survival: 52.5%\n",
      "Young female survival: 65.11627906976744%\n"
     ]
    }
   ],
   "source": [
    "%matplotlib inline\n",
    "import pandas as pd\n",
    "train = pd.read_csv('train.csv')\n",
    "test = pd.read_csv('test.csv')\n",
    "#print(train.columns)\n",
    "totMale = len(train.loc[train['Sex'] == 'male'])\n",
    "totFemale = len(train.loc[train['Sex'] == 'female'])\n",
    "\n",
    "survived = train.loc[train['Survived'] == 1]\n",
    "male = len(survived.loc[survived['Sex'] == 'male'])\n",
    "female = len(survived.loc[survived['Sex'] == 'female'])\n",
    "print('Male survival: ' + str(male/totMale*100) + '%')\n",
    "print('Female survival: ' + str(female/totFemale*100) + '%')\n",
    "print(' ')\n",
    "\n",
    "age = train.Age.value_counts().sort_index()\n",
    "youngtot = len(train.loc[train['Age'] <= 15])\n",
    "oldtot = len(train.loc[train['Age'] >= 50])\n",
    "young = len(survived.loc[survived['Age'] <= 15]) \n",
    "old = len(survived.loc[survived['Age'] >= 50]) \n",
    "print('Young survival: ' + str(young/youngtot*100) + '%')\n",
    "print('Old survival: ' + str(old/oldtot*100) + '%')\n",
    "print(' ')\n",
    "\n",
    "totOldMale = len(train.loc[train['Sex'] == 'male'].loc[train['Age'] >= 50])\n",
    "totOldFemale = len(train.loc[train['Sex'] == 'female'].loc[train['Age'] >= 50])\n",
    "totYoungMale = len(train.loc[train['Sex'] == 'male'].loc[train['Age'] <= 15])\n",
    "totYoungFemale = len(train.loc[train['Sex'] == 'female'].loc[train['Age'] <= 15])\n",
    "\n",
    "\n",
    "liveOldMale = len(survived.loc[survived['Sex'] == 'male'].loc[survived['Age'] >= 50])\n",
    "liveOldFemale = len(survived.loc[survived['Sex'] == 'female'].loc[survived['Age'] >= 50])\n",
    "liveYoungMale = len(survived.loc[survived['Sex'] == 'male'].loc[survived['Age'] <= 15])\n",
    "liveYoungFemale = len(survived.loc[survived['Sex'] == 'female'].loc[survived['Age'] <= 15])\n",
    "\n",
    "\n",
    "print('Old male survival: ' + str(liveOldMale/totOldMale*100) + '%')\n",
    "print('Old female survival: ' + str(liveOldFemale/totOldFemale*100) + '%')\n",
    "print('Young male survival: ' + str(liveYoungMale/totYoungMale*100) + '%')\n",
    "print('Young female survival: ' + str(liveYoungFemale/totYoungFemale*100) + '%')\n",
    "\n",
    "\n",
    "#thinkplot.Scatter(age, )\n",
    "#thinkplot.Show(xlabel='age',\n",
    "#                ylabel='survived')"
   ]
  },
  {
   "cell_type": "code",
   "execution_count": null,
   "metadata": {
    "collapsed": true
   },
   "outputs": [],
   "source": []
  },
  {
   "cell_type": "code",
   "execution_count": null,
   "metadata": {
    "collapsed": true
   },
   "outputs": [],
   "source": []
  }
 ],
 "metadata": {
  "kernelspec": {
   "display_name": "Python 3",
   "language": "python",
   "name": "python3"
  },
  "language_info": {
   "codemirror_mode": {
    "name": "ipython",
    "version": 3
   },
   "file_extension": ".py",
   "mimetype": "text/x-python",
   "name": "python",
   "nbconvert_exporter": "python",
   "pygments_lexer": "ipython3",
   "version": "3.5.1"
  }
 },
 "nbformat": 4,
 "nbformat_minor": 0
}
